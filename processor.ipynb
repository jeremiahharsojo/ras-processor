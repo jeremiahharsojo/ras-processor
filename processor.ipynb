{
 "cells": [
  {
   "cell_type": "code",
   "execution_count": 1,
   "id": "78deb9d0-46f2-4a5f-a6c7-abd0249a6c88",
   "metadata": {},
   "outputs": [],
   "source": [
    "import pandas as pd\n",
    "import numpy as np\n",
    "import matplotlib.pyplot as plt\n",
    "\n",
    "file_name = \"rasFile.ras\""
   ]
  },
  {
   "cell_type": "code",
   "execution_count": 2,
   "id": "20f907aa-778d-446b-8949-74ca5691d271",
   "metadata": {},
   "outputs": [
    {
     "data": {
      "text/plain": [
       "<_io.TextIOWrapper name='rasFile.ras' mode='r' encoding='cp1252'>"
      ]
     },
     "execution_count": 2,
     "metadata": {},
     "output_type": "execute_result"
    }
   ],
   "source": [
    "# Open file and read into a list\n",
    "file_object = open(file_name)\n",
    "file_object"
   ]
  },
  {
   "cell_type": "code",
   "execution_count": 3,
   "id": "e54abc44-9b48-4f53-a9d6-3ba76458c67e",
   "metadata": {},
   "outputs": [
    {
     "data": {
      "text/plain": [
       "['*RAS_DATA_START\\n',\n",
       " '*RAS_HEADER_START\\n',\n",
       " '*CORR_POS_DB_NAME \"SRM640f/Cu/Soller_slit_5.0deg/Soller_slit_5.0deg/0.625deg/DteX100\"\\n',\n",
       " '*CORR_POS_GONIO_RADIUS \"0\"\\n',\n",
       " '*CORR_POS_NODE_INDEX02 \"2\"\\n',\n",
       " '*CORR_POS_NODE_INDEX03 \"3\"\\n',\n",
       " '*CORR_POS_NODE_INDEX04 \"4\"\\n',\n",
       " '*CORR_POS_NODE_INDEX05 \"5\"\\n',\n",
       " '*CORR_POS_NODE_INDEX06 \"6\"\\n',\n",
       " '*CORR_POS_NODE_INDEX07 \"7\"\\n']"
      ]
     },
     "execution_count": 3,
     "metadata": {},
     "output_type": "execute_result"
    }
   ],
   "source": [
    "lines = file_object.readlines()\n",
    "lines [:10]"
   ]
  },
  {
   "cell_type": "code",
   "execution_count": 4,
   "id": "b926bc61-dfde-4b8e-ba74-1da7917c7588",
   "metadata": {},
   "outputs": [
    {
     "data": {
      "text/plain": [
       "array(['*RAS_DATA_START\\n', '*RAS_HEADER_START\\n',\n",
       "       '*CORR_POS_DB_NAME \"SRM640f/Cu/Soller_slit_5.0deg/Soller_slit_5.0deg/0.625deg/DteX100\"\\n',\n",
       "       ..., '*RAS_INT_END\\n', '*RAS_DATA_END\\n', '*DSC_DATA_END\\n'],\n",
       "      shape=(18301,), dtype='<U86')"
      ]
     },
     "execution_count": 4,
     "metadata": {},
     "output_type": "execute_result"
    }
   ],
   "source": [
    "lines_array = np.array(lines)\n",
    "lines_array"
   ]
  },
  {
   "cell_type": "code",
   "execution_count": 5,
   "id": "0f6857aa-7748-4a4f-bf48-41e2a7344e30",
   "metadata": {},
   "outputs": [
    {
     "data": {
      "text/plain": [
       "'90.0000 319.7711 1.0000\\n'"
      ]
     },
     "execution_count": 5,
     "metadata": {},
     "output_type": "execute_result"
    }
   ],
   "source": [
    "# Filter out non-numerical data \n",
    "mask = np.char.find(lines, '*') == -1\n",
    "start_index = np.argmax(mask) if np.any(mask) else None\n",
    "mask = mask[start_index:]\n",
    "lines = lines[start_index:]\n",
    "end_index = np.argmax(~mask) if np.any(~mask) else None\n",
    "if end_index:\n",
    "    lines = lines[:end_index]\n",
    "lines[-1]"
   ]
  },
  {
   "cell_type": "code",
   "execution_count": 6,
   "id": "87dd060e-0a59-4b89-9a85-63048c997b96",
   "metadata": {},
   "outputs": [
    {
     "data": {
      "text/plain": [
       "[['2.0000', '4387.0000', '1.0000'],\n",
       " ['2.0050', '4387.0000', '1.0000'],\n",
       " ['2.0100', '4387.0000', '1.0000'],\n",
       " ['2.0150', '4387.1786', '1.0000'],\n",
       " ['2.0200', '4389.8307', '1.0000']]"
      ]
     },
     "execution_count": 6,
     "metadata": {},
     "output_type": "execute_result"
    }
   ],
   "source": [
    "# Separate each row and datapoint\n",
    "data_rows = [line.strip().split() for line in lines]\n",
    "data_rows[:5]"
   ]
  },
  {
   "cell_type": "code",
   "execution_count": 7,
   "id": "cd76681b-97ee-4b54-98fc-244a4bed6f28",
   "metadata": {},
   "outputs": [
    {
     "data": {
      "text/html": [
       "<div>\n",
       "<style scoped>\n",
       "    .dataframe tbody tr th:only-of-type {\n",
       "        vertical-align: middle;\n",
       "    }\n",
       "\n",
       "    .dataframe tbody tr th {\n",
       "        vertical-align: top;\n",
       "    }\n",
       "\n",
       "    .dataframe thead th {\n",
       "        text-align: right;\n",
       "    }\n",
       "</style>\n",
       "<table border=\"1\" class=\"dataframe\">\n",
       "  <thead>\n",
       "    <tr style=\"text-align: right;\">\n",
       "      <th></th>\n",
       "      <th>2_theta</th>\n",
       "      <th>intensity</th>\n",
       "      <th>unk</th>\n",
       "    </tr>\n",
       "  </thead>\n",
       "  <tbody>\n",
       "    <tr>\n",
       "      <th>0</th>\n",
       "      <td>2.000</td>\n",
       "      <td>4387.0000</td>\n",
       "      <td>1.0</td>\n",
       "    </tr>\n",
       "    <tr>\n",
       "      <th>1</th>\n",
       "      <td>2.005</td>\n",
       "      <td>4387.0000</td>\n",
       "      <td>1.0</td>\n",
       "    </tr>\n",
       "    <tr>\n",
       "      <th>2</th>\n",
       "      <td>2.010</td>\n",
       "      <td>4387.0000</td>\n",
       "      <td>1.0</td>\n",
       "    </tr>\n",
       "    <tr>\n",
       "      <th>3</th>\n",
       "      <td>2.015</td>\n",
       "      <td>4387.1786</td>\n",
       "      <td>1.0</td>\n",
       "    </tr>\n",
       "    <tr>\n",
       "      <th>4</th>\n",
       "      <td>2.020</td>\n",
       "      <td>4389.8307</td>\n",
       "      <td>1.0</td>\n",
       "    </tr>\n",
       "  </tbody>\n",
       "</table>\n",
       "</div>"
      ],
      "text/plain": [
       "   2_theta  intensity  unk\n",
       "0    2.000  4387.0000  1.0\n",
       "1    2.005  4387.0000  1.0\n",
       "2    2.010  4387.0000  1.0\n",
       "3    2.015  4387.1786  1.0\n",
       "4    2.020  4389.8307  1.0"
      ]
     },
     "execution_count": 7,
     "metadata": {},
     "output_type": "execute_result"
    }
   ],
   "source": [
    "# Insert data into a dataframe, format and save \n",
    "raw_dataframe = pd.DataFrame(data_rows, columns = [\"2_theta\", \"intensity\", \"unk\"])\n",
    "raw_dataframe = raw_dataframe.astype({'2_theta': 'float64', 'intensity': 'float64', 'unk': 'float64'})\n",
    "raw_dataframe.to_csv('raw_output.csv', index=False)\n",
    "raw_dataframe.head()"
   ]
  },
  {
   "cell_type": "code",
   "execution_count": 8,
   "id": "d7b9ef75-a295-4fdb-9043-26304451486d",
   "metadata": {},
   "outputs": [
    {
     "data": {
      "image/png": "[encoded data removed]",
      "text/plain": [
       "<Figure size 640x480 with 1 Axes>"
      ]
     },
     "metadata": {},
     "output_type": "display_data"
    }
   ],
   "source": [
    "# Create visualization plot for raw data\n",
    "plt.plot(raw_dataframe['2_theta'], raw_dataframe['intensity'])\n",
    "plt.xlabel('2_theta')\n",
    "plt.ylabel('intensity')\n",
    "plt.title('Line Plot of 2_theta vs intensity')\n",
    "plt.grid(True)\n",
    "plt.savefig(\"raw_plot.png\", dpi=300, bbox_inches='tight', transparent=True)\n",
    "plt.show()"
   ]
  },
  {
   "cell_type": "code",
   "execution_count": 9,
   "id": "e29c2043-6fcb-44ec-8c43-d0e89ffba15a",
   "metadata": {},
   "outputs": [
    {
     "data": {
      "text/html": [
       "<div>\n",
       "<style scoped>\n",
       "    .dataframe tbody tr th:only-of-type {\n",
       "        vertical-align: middle;\n",
       "    }\n",
       "\n",
       "    .dataframe tbody tr th {\n",
       "        vertical-align: top;\n",
       "    }\n",
       "\n",
       "    .dataframe thead th {\n",
       "        text-align: right;\n",
       "    }\n",
       "</style>\n",
       "<table border=\"1\" class=\"dataframe\">\n",
       "  <thead>\n",
       "    <tr style=\"text-align: right;\">\n",
       "      <th></th>\n",
       "      <th>2_theta</th>\n",
       "      <th>intensity</th>\n",
       "      <th>unk</th>\n",
       "    </tr>\n",
       "  </thead>\n",
       "  <tbody>\n",
       "    <tr>\n",
       "      <th>0</th>\n",
       "      <td>0.000</td>\n",
       "      <td>4387.0000</td>\n",
       "      <td>1.0</td>\n",
       "    </tr>\n",
       "    <tr>\n",
       "      <th>1</th>\n",
       "      <td>0.005</td>\n",
       "      <td>4387.0000</td>\n",
       "      <td>1.0</td>\n",
       "    </tr>\n",
       "    <tr>\n",
       "      <th>2</th>\n",
       "      <td>0.010</td>\n",
       "      <td>4387.0000</td>\n",
       "      <td>1.0</td>\n",
       "    </tr>\n",
       "    <tr>\n",
       "      <th>3</th>\n",
       "      <td>0.015</td>\n",
       "      <td>4387.1786</td>\n",
       "      <td>1.0</td>\n",
       "    </tr>\n",
       "    <tr>\n",
       "      <th>4</th>\n",
       "      <td>0.020</td>\n",
       "      <td>4389.8307</td>\n",
       "      <td>1.0</td>\n",
       "    </tr>\n",
       "  </tbody>\n",
       "</table>\n",
       "</div>"
      ],
      "text/plain": [
       "   2_theta  intensity  unk\n",
       "0    0.000  4387.0000  1.0\n",
       "1    0.005  4387.0000  1.0\n",
       "2    0.010  4387.0000  1.0\n",
       "3    0.015  4387.1786  1.0\n",
       "4    0.020  4389.8307  1.0"
      ]
     },
     "execution_count": 9,
     "metadata": {},
     "output_type": "execute_result"
    }
   ],
   "source": [
    "# Create a copy of original dataframe\n",
    "processed_dataframe = raw_dataframe.copy()\n",
    "\n",
    "# Change x-axis to start at 0\n",
    "processed_dataframe[\"2_theta\"] = processed_dataframe[\"2_theta\"] - np.min(processed_dataframe[\"2_theta\"])\n",
    "processed_dataframe.to_csv('processed_output.csv', index=False)\n",
    "processed_dataframe.head()"
   ]
  },
  {
   "cell_type": "code",
   "execution_count": 10,
   "id": "bfa86073-04ab-4fab-82b8-ee3d02c49b3f",
   "metadata": {},
   "outputs": [
    {
     "data": {
      "image/png": "[encoded data removed]",
      "text/plain": [
       "<Figure size 640x480 with 1 Axes>"
      ]
     },
     "metadata": {},
     "output_type": "display_data"
    }
   ],
   "source": [
    "# Create visualization plot for processed data\n",
    "plt.plot(processed_dataframe['2_theta'], processed_dataframe['intensity'])\n",
    "plt.xlabel('2_theta')\n",
    "plt.ylabel('intensity')\n",
    "plt.title('Line Plot of 2_theta vs intensity')\n",
    "plt.grid(True)\n",
    "plt.savefig(\"processed_plot.png\", dpi=300, bbox_inches='tight', transparent=True)\n",
    "plt.show()"
   ]
  }
 ],
 "metadata": {
  "kernelspec": {
   "display_name": "Python 3 (ipykernel)",
   "language": "python",
   "name": "python3"
  },
  "language_info": {
   "codemirror_mode": {
    "name": "ipython",
    "version": 3
   },
   "file_extension": ".py",
   "mimetype": "text/x-python",
   "name": "python",
   "nbconvert_exporter": "python",
   "pygments_lexer": "ipython3",
   "version": "3.13.5"
  }
 },
 "nbformat": 4,
 "nbformat_minor": 5
}
